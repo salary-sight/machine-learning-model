{
 "cells": [
  {
   "cell_type": "code",
   "execution_count": 110,
   "metadata": {},
   "outputs": [],
   "source": [
    "import pandas as pd\n",
    "import numpy as np"
   ]
  },
  {
   "cell_type": "code",
   "execution_count": 111,
   "metadata": {},
   "outputs": [],
   "source": [
    "raw_2018 = pd.read_csv(\"./survey_results_public_2018.csv\")"
   ]
  },
  {
   "cell_type": "code",
   "execution_count": 4,
   "metadata": {},
   "outputs": [
    {
     "name": "stdout",
     "output_type": "stream",
     "text": [
      "Respondent\n",
      "Hobby\n",
      "OpenSource\n",
      "Country\n",
      "Student\n",
      "Employment\n",
      "FormalEducation\n",
      "UndergradMajor\n",
      "CompanySize\n",
      "DevType\n",
      "YearsCoding\n",
      "YearsCodingProf\n",
      "JobSatisfaction\n",
      "CareerSatisfaction\n",
      "HopeFiveYears\n",
      "JobSearchStatus\n",
      "LastNewJob\n",
      "AssessJob1\n",
      "AssessJob2\n",
      "AssessJob3\n",
      "AssessJob4\n",
      "AssessJob5\n",
      "AssessJob6\n",
      "AssessJob7\n",
      "AssessJob8\n",
      "AssessJob9\n",
      "AssessJob10\n",
      "AssessBenefits1\n",
      "AssessBenefits2\n",
      "AssessBenefits3\n",
      "AssessBenefits4\n",
      "AssessBenefits5\n",
      "AssessBenefits6\n",
      "AssessBenefits7\n",
      "AssessBenefits8\n",
      "AssessBenefits9\n",
      "AssessBenefits10\n",
      "AssessBenefits11\n",
      "JobContactPriorities1\n",
      "JobContactPriorities2\n",
      "JobContactPriorities3\n",
      "JobContactPriorities4\n",
      "JobContactPriorities5\n",
      "JobEmailPriorities1\n",
      "JobEmailPriorities2\n",
      "JobEmailPriorities3\n",
      "JobEmailPriorities4\n",
      "JobEmailPriorities5\n",
      "JobEmailPriorities6\n",
      "JobEmailPriorities7\n",
      "UpdateCV\n",
      "Currency\n",
      "Salary\n",
      "SalaryType\n",
      "ConvertedSalary\n",
      "CurrencySymbol\n",
      "CommunicationTools\n",
      "TimeFullyProductive\n",
      "EducationTypes\n",
      "SelfTaughtTypes\n",
      "TimeAfterBootcamp\n",
      "HackathonReasons\n",
      "AgreeDisagree1\n",
      "AgreeDisagree2\n",
      "AgreeDisagree3\n",
      "LanguageWorkedWith\n",
      "LanguageDesireNextYear\n",
      "DatabaseWorkedWith\n",
      "DatabaseDesireNextYear\n",
      "PlatformWorkedWith\n",
      "PlatformDesireNextYear\n",
      "FrameworkWorkedWith\n",
      "FrameworkDesireNextYear\n",
      "IDE\n",
      "OperatingSystem\n",
      "NumberMonitors\n",
      "Methodology\n",
      "VersionControl\n",
      "CheckInCode\n",
      "AdBlocker\n",
      "AdBlockerDisable\n",
      "AdBlockerReasons\n",
      "AdsAgreeDisagree1\n",
      "AdsAgreeDisagree2\n",
      "AdsAgreeDisagree3\n",
      "AdsActions\n",
      "AdsPriorities1\n",
      "AdsPriorities2\n",
      "AdsPriorities3\n",
      "AdsPriorities4\n",
      "AdsPriorities5\n",
      "AdsPriorities6\n",
      "AdsPriorities7\n",
      "AIDangerous\n",
      "AIInteresting\n",
      "AIResponsible\n",
      "AIFuture\n",
      "EthicsChoice\n",
      "EthicsReport\n",
      "EthicsResponsible\n",
      "EthicalImplications\n",
      "StackOverflowRecommend\n",
      "StackOverflowVisit\n",
      "StackOverflowHasAccount\n",
      "StackOverflowParticipate\n",
      "StackOverflowJobs\n",
      "StackOverflowDevStory\n",
      "StackOverflowJobsRecommend\n",
      "StackOverflowConsiderMember\n",
      "HypotheticalTools1\n",
      "HypotheticalTools2\n",
      "HypotheticalTools3\n",
      "HypotheticalTools4\n",
      "HypotheticalTools5\n",
      "WakeTime\n",
      "HoursComputer\n",
      "HoursOutside\n",
      "SkipMeals\n",
      "ErgonomicDevices\n",
      "Exercise\n",
      "Gender\n",
      "SexualOrientation\n",
      "EducationParents\n",
      "RaceEthnicity\n",
      "Age\n",
      "Dependents\n",
      "MilitaryUS\n",
      "SurveyTooLong\n",
      "SurveyEasy\n"
     ]
    }
   ],
   "source": [
    "for i in raw_2018.columns:\n",
    "    print(i)"
   ]
  },
  {
   "cell_type": "code",
   "execution_count": 112,
   "metadata": {},
   "outputs": [],
   "source": [
    "df_2018 = raw_2018[['Respondent', 'Country', 'FormalEducation', 'DevType', 'YearsCoding', 'ConvertedSalary', 'LanguageWorkedWith', 'DatabaseWorkedWith', 'PlatformWorkedWith', 'FrameworkWorkedWith']]"
   ]
  },
  {
   "cell_type": "code",
   "execution_count": 8,
   "metadata": {},
   "outputs": [],
   "source": [
    "edu_map = pd.read_csv('edu_map.csv')"
   ]
  },
  {
   "cell_type": "code",
   "execution_count": 113,
   "metadata": {},
   "outputs": [],
   "source": [
    "df_2018 = df_2018.merge(edu_map, left_on='FormalEducation', right_on='EdLevel', how='left').drop(['Unnamed: 0', 'EdLevel'], axis=1)"
   ]
  },
  {
   "cell_type": "code",
   "execution_count": 114,
   "metadata": {},
   "outputs": [],
   "source": [
    "country_map = pd.read_csv('country_map.csv')"
   ]
  },
  {
   "cell_type": "code",
   "execution_count": 115,
   "metadata": {},
   "outputs": [],
   "source": [
    "df_2018 = df_2018.merge(country_map, on='Country', how='left').drop(['Unnamed: 0'], axis=1)"
   ]
  },
  {
   "cell_type": "code",
   "execution_count": 17,
   "metadata": {},
   "outputs": [
    {
     "data": {
      "text/plain": [
       "array(['3-5 years', '30 or more years', '24-26 years', '18-20 years',\n",
       "       '6-8 years', '9-11 years', '0-2 years', '15-17 years',\n",
       "       '12-14 years', '21-23 years', '27-29 years', nan], dtype=object)"
      ]
     },
     "execution_count": 17,
     "metadata": {},
     "output_type": "execute_result"
    }
   ],
   "source": [
    "df_2018['YearsCoding'].unique()"
   ]
  },
  {
   "cell_type": "code",
   "execution_count": 116,
   "metadata": {},
   "outputs": [],
   "source": [
    "df_2018.loc[df_2018['YearsCoding']=='3-5 years', 'YearsCode'] = 4\n",
    "df_2018.loc[df_2018['YearsCoding']=='30 or more years', 'YearsCode'] = 30\n",
    "df_2018.loc[df_2018['YearsCoding']=='24-26 years', 'YearsCode'] = 25\n",
    "df_2018.loc[df_2018['YearsCoding']=='18-20 years', 'YearsCode'] = 19\n",
    "df_2018.loc[df_2018['YearsCoding']=='6-8 years', 'YearsCode'] = 7\n",
    "df_2018.loc[df_2018['YearsCoding']=='9-11 years', 'YearsCode'] = 10\n",
    "df_2018.loc[df_2018['YearsCoding']=='0-2 years', 'YearsCode'] = 1\n",
    "df_2018.loc[df_2018['YearsCoding']=='15-17 years', 'YearsCode'] = 16\n",
    "df_2018.loc[df_2018['YearsCoding']=='12-14 years', 'YearsCode'] = 13\n",
    "df_2018.loc[df_2018['YearsCoding']=='21-23 years', 'YearsCode'] = 22\n",
    "df_2018.loc[df_2018['YearsCoding']=='27-29 years', 'YearsCode'] = 28\n",
    "df_2018.loc[df_2018['YearsCoding']==np.nan, 'YearsCode'] = 10"
   ]
  },
  {
   "cell_type": "code",
   "execution_count": 117,
   "metadata": {},
   "outputs": [],
   "source": [
    "df_2018.loc[df_2018['YearsCode'].isna(), 'YearsCode'] = 10"
   ]
  },
  {
   "cell_type": "code",
   "execution_count": 118,
   "metadata": {},
   "outputs": [],
   "source": [
    "df_2018['ConvertedSalary'] = df_2018['ConvertedSalary']*1.02440"
   ]
  },
  {
   "cell_type": "code",
   "execution_count": 119,
   "metadata": {},
   "outputs": [],
   "source": [
    "df_2018 = df_2018.rename(columns={'ConvertedSalary': 'ConvertedComp'})"
   ]
  },
  {
   "cell_type": "code",
   "execution_count": 120,
   "metadata": {},
   "outputs": [],
   "source": [
    "df_2018 = df_2018[~df_2018['ConvertedComp'].isna()]\n",
    "df_2018 = df_2018[df_2018['ConvertedComp']<1000000]"
   ]
  },
  {
   "cell_type": "code",
   "execution_count": 121,
   "metadata": {},
   "outputs": [],
   "source": [
    "temp1 = df_2018['DevType'].str.split(';', expand=True)"
   ]
  },
  {
   "cell_type": "code",
   "execution_count": 122,
   "metadata": {},
   "outputs": [
    {
     "name": "stderr",
     "output_type": "stream",
     "text": [
      "/Users/owenbchiu/opt/anaconda3/lib/python3.7/site-packages/ipykernel_launcher.py:3: FutureWarning: Method .as_matrix will be removed in a future version. Use .values instead.\n",
      "  This is separate from the ipykernel package so we can avoid doing imports until\n"
     ]
    }
   ],
   "source": [
    "all_positions = []\n",
    "for row in range(temp1.shape[0]):\n",
    "    j = temp1.iloc[row].as_matrix()\n",
    "    for position in j:\n",
    "        if position not in all_positions:\n",
    "            all_positions.append(position)"
   ]
  },
  {
   "cell_type": "code",
   "execution_count": 123,
   "metadata": {},
   "outputs": [],
   "source": [
    "all_positions.remove(None)"
   ]
  },
  {
   "cell_type": "code",
   "execution_count": 124,
   "metadata": {},
   "outputs": [
    {
     "data": {
      "text/plain": [
       "nan"
      ]
     },
     "execution_count": 124,
     "metadata": {},
     "output_type": "execute_result"
    }
   ],
   "source": [
    "all_positions.pop(-1)"
   ]
  },
  {
   "cell_type": "code",
   "execution_count": 125,
   "metadata": {},
   "outputs": [],
   "source": [
    "all_positions.sort()"
   ]
  },
  {
   "cell_type": "code",
   "execution_count": 42,
   "metadata": {},
   "outputs": [
    {
     "data": {
      "text/plain": [
       "['Back-end developer',\n",
       " 'C-suite executive (CEO, CTO, etc.)',\n",
       " 'Data or business analyst',\n",
       " 'Data scientist or machine learning specialist',\n",
       " 'Database administrator',\n",
       " 'Designer',\n",
       " 'Desktop or enterprise applications developer',\n",
       " 'DevOps specialist',\n",
       " 'Educator or academic researcher',\n",
       " 'Embedded applications or devices developer',\n",
       " 'Engineering manager',\n",
       " 'Front-end developer',\n",
       " 'Full-stack developer',\n",
       " 'Game or graphics developer',\n",
       " 'Marketing or sales professional',\n",
       " 'Mobile developer',\n",
       " 'Product manager',\n",
       " 'QA or test developer',\n",
       " 'Student',\n",
       " 'System administrator']"
      ]
     },
     "execution_count": 42,
     "metadata": {},
     "output_type": "execute_result"
    }
   ],
   "source": [
    "all_positions"
   ]
  },
  {
   "cell_type": "code",
   "execution_count": 126,
   "metadata": {},
   "outputs": [],
   "source": [
    "for i in all_positions:\n",
    "    df_2018[i] = 0"
   ]
  },
  {
   "cell_type": "code",
   "execution_count": 127,
   "metadata": {},
   "outputs": [
    {
     "name": "stderr",
     "output_type": "stream",
     "text": [
      "/Users/owenbchiu/opt/anaconda3/lib/python3.7/site-packages/ipykernel_launcher.py:2: FutureWarning: Method .as_matrix will be removed in a future version. Use .values instead.\n",
      "  \n"
     ]
    }
   ],
   "source": [
    "for i in range(temp1.shape[0]):\n",
    "    j = list(temp1.iloc[i].as_matrix())\n",
    "    for item in j:\n",
    "        if type(item)==type('str'):\n",
    "            df_2018.at[i, item] = 1"
   ]
  },
  {
   "cell_type": "code",
   "execution_count": 46,
   "metadata": {},
   "outputs": [
    {
     "data": {
      "text/html": [
       "<div>\n",
       "<style scoped>\n",
       "    .dataframe tbody tr th:only-of-type {\n",
       "        vertical-align: middle;\n",
       "    }\n",
       "\n",
       "    .dataframe tbody tr th {\n",
       "        vertical-align: top;\n",
       "    }\n",
       "\n",
       "    .dataframe thead th {\n",
       "        text-align: right;\n",
       "    }\n",
       "</style>\n",
       "<table border=\"1\" class=\"dataframe\">\n",
       "  <thead>\n",
       "    <tr style=\"text-align: right;\">\n",
       "      <th></th>\n",
       "      <th>Back-end developer</th>\n",
       "      <th>C-suite executive (CEO, CTO, etc.)</th>\n",
       "      <th>Data or business analyst</th>\n",
       "      <th>Data scientist or machine learning specialist</th>\n",
       "      <th>Database administrator</th>\n",
       "      <th>Designer</th>\n",
       "      <th>Desktop or enterprise applications developer</th>\n",
       "      <th>DevOps specialist</th>\n",
       "      <th>Educator or academic researcher</th>\n",
       "      <th>Embedded applications or devices developer</th>\n",
       "      <th>Engineering manager</th>\n",
       "      <th>Front-end developer</th>\n",
       "      <th>Full-stack developer</th>\n",
       "      <th>Game or graphics developer</th>\n",
       "      <th>Marketing or sales professional</th>\n",
       "      <th>Mobile developer</th>\n",
       "      <th>Product manager</th>\n",
       "      <th>QA or test developer</th>\n",
       "      <th>Student</th>\n",
       "      <th>System administrator</th>\n",
       "    </tr>\n",
       "  </thead>\n",
       "  <tbody>\n",
       "    <tr>\n",
       "      <td>1</td>\n",
       "      <td>0.0</td>\n",
       "      <td>0.0</td>\n",
       "      <td>1.0</td>\n",
       "      <td>0.0</td>\n",
       "      <td>0.0</td>\n",
       "      <td>0.0</td>\n",
       "      <td>1.0</td>\n",
       "      <td>0.0</td>\n",
       "      <td>0.0</td>\n",
       "      <td>0.0</td>\n",
       "      <td>0.0</td>\n",
       "      <td>0.0</td>\n",
       "      <td>0.0</td>\n",
       "      <td>1.0</td>\n",
       "      <td>0.0</td>\n",
       "      <td>0.0</td>\n",
       "      <td>0.0</td>\n",
       "      <td>1.0</td>\n",
       "      <td>1.0</td>\n",
       "      <td>0.0</td>\n",
       "    </tr>\n",
       "    <tr>\n",
       "      <td>4</td>\n",
       "      <td>1.0</td>\n",
       "      <td>1.0</td>\n",
       "      <td>1.0</td>\n",
       "      <td>0.0</td>\n",
       "      <td>1.0</td>\n",
       "      <td>0.0</td>\n",
       "      <td>0.0</td>\n",
       "      <td>1.0</td>\n",
       "      <td>0.0</td>\n",
       "      <td>0.0</td>\n",
       "      <td>1.0</td>\n",
       "      <td>0.0</td>\n",
       "      <td>1.0</td>\n",
       "      <td>0.0</td>\n",
       "      <td>0.0</td>\n",
       "      <td>0.0</td>\n",
       "      <td>0.0</td>\n",
       "      <td>0.0</td>\n",
       "      <td>0.0</td>\n",
       "      <td>1.0</td>\n",
       "    </tr>\n",
       "    <tr>\n",
       "      <td>5</td>\n",
       "      <td>1.0</td>\n",
       "      <td>0.0</td>\n",
       "      <td>0.0</td>\n",
       "      <td>0.0</td>\n",
       "      <td>0.0</td>\n",
       "      <td>0.0</td>\n",
       "      <td>0.0</td>\n",
       "      <td>0.0</td>\n",
       "      <td>0.0</td>\n",
       "      <td>0.0</td>\n",
       "      <td>0.0</td>\n",
       "      <td>1.0</td>\n",
       "      <td>0.0</td>\n",
       "      <td>0.0</td>\n",
       "      <td>0.0</td>\n",
       "      <td>0.0</td>\n",
       "      <td>0.0</td>\n",
       "      <td>0.0</td>\n",
       "      <td>1.0</td>\n",
       "      <td>0.0</td>\n",
       "    </tr>\n",
       "    <tr>\n",
       "      <td>6</td>\n",
       "      <td>1.0</td>\n",
       "      <td>0.0</td>\n",
       "      <td>0.0</td>\n",
       "      <td>0.0</td>\n",
       "      <td>0.0</td>\n",
       "      <td>0.0</td>\n",
       "      <td>0.0</td>\n",
       "      <td>0.0</td>\n",
       "      <td>0.0</td>\n",
       "      <td>0.0</td>\n",
       "      <td>0.0</td>\n",
       "      <td>0.0</td>\n",
       "      <td>0.0</td>\n",
       "      <td>0.0</td>\n",
       "      <td>0.0</td>\n",
       "      <td>0.0</td>\n",
       "      <td>0.0</td>\n",
       "      <td>0.0</td>\n",
       "      <td>0.0</td>\n",
       "      <td>0.0</td>\n",
       "    </tr>\n",
       "    <tr>\n",
       "      <td>8</td>\n",
       "      <td>1.0</td>\n",
       "      <td>0.0</td>\n",
       "      <td>0.0</td>\n",
       "      <td>0.0</td>\n",
       "      <td>1.0</td>\n",
       "      <td>1.0</td>\n",
       "      <td>1.0</td>\n",
       "      <td>0.0</td>\n",
       "      <td>0.0</td>\n",
       "      <td>0.0</td>\n",
       "      <td>0.0</td>\n",
       "      <td>1.0</td>\n",
       "      <td>1.0</td>\n",
       "      <td>0.0</td>\n",
       "      <td>0.0</td>\n",
       "      <td>0.0</td>\n",
       "      <td>0.0</td>\n",
       "      <td>0.0</td>\n",
       "      <td>0.0</td>\n",
       "      <td>0.0</td>\n",
       "    </tr>\n",
       "    <tr>\n",
       "      <td>14</td>\n",
       "      <td>1.0</td>\n",
       "      <td>0.0</td>\n",
       "      <td>0.0</td>\n",
       "      <td>0.0</td>\n",
       "      <td>0.0</td>\n",
       "      <td>0.0</td>\n",
       "      <td>0.0</td>\n",
       "      <td>0.0</td>\n",
       "      <td>0.0</td>\n",
       "      <td>0.0</td>\n",
       "      <td>1.0</td>\n",
       "      <td>0.0</td>\n",
       "      <td>0.0</td>\n",
       "      <td>0.0</td>\n",
       "      <td>0.0</td>\n",
       "      <td>0.0</td>\n",
       "      <td>0.0</td>\n",
       "      <td>0.0</td>\n",
       "      <td>0.0</td>\n",
       "      <td>0.0</td>\n",
       "    </tr>\n",
       "    <tr>\n",
       "      <td>17</td>\n",
       "      <td>1.0</td>\n",
       "      <td>0.0</td>\n",
       "      <td>0.0</td>\n",
       "      <td>0.0</td>\n",
       "      <td>1.0</td>\n",
       "      <td>0.0</td>\n",
       "      <td>0.0</td>\n",
       "      <td>1.0</td>\n",
       "      <td>0.0</td>\n",
       "      <td>0.0</td>\n",
       "      <td>0.0</td>\n",
       "      <td>1.0</td>\n",
       "      <td>1.0</td>\n",
       "      <td>0.0</td>\n",
       "      <td>0.0</td>\n",
       "      <td>1.0</td>\n",
       "      <td>0.0</td>\n",
       "      <td>0.0</td>\n",
       "      <td>0.0</td>\n",
       "      <td>0.0</td>\n",
       "    </tr>\n",
       "    <tr>\n",
       "      <td>20</td>\n",
       "      <td>1.0</td>\n",
       "      <td>0.0</td>\n",
       "      <td>0.0</td>\n",
       "      <td>0.0</td>\n",
       "      <td>0.0</td>\n",
       "      <td>0.0</td>\n",
       "      <td>0.0</td>\n",
       "      <td>0.0</td>\n",
       "      <td>0.0</td>\n",
       "      <td>1.0</td>\n",
       "      <td>0.0</td>\n",
       "      <td>0.0</td>\n",
       "      <td>0.0</td>\n",
       "      <td>0.0</td>\n",
       "      <td>0.0</td>\n",
       "      <td>0.0</td>\n",
       "      <td>0.0</td>\n",
       "      <td>0.0</td>\n",
       "      <td>0.0</td>\n",
       "      <td>0.0</td>\n",
       "    </tr>\n",
       "    <tr>\n",
       "      <td>22</td>\n",
       "      <td>1.0</td>\n",
       "      <td>0.0</td>\n",
       "      <td>0.0</td>\n",
       "      <td>0.0</td>\n",
       "      <td>0.0</td>\n",
       "      <td>0.0</td>\n",
       "      <td>0.0</td>\n",
       "      <td>0.0</td>\n",
       "      <td>0.0</td>\n",
       "      <td>0.0</td>\n",
       "      <td>0.0</td>\n",
       "      <td>0.0</td>\n",
       "      <td>1.0</td>\n",
       "      <td>0.0</td>\n",
       "      <td>0.0</td>\n",
       "      <td>0.0</td>\n",
       "      <td>0.0</td>\n",
       "      <td>0.0</td>\n",
       "      <td>0.0</td>\n",
       "      <td>0.0</td>\n",
       "    </tr>\n",
       "    <tr>\n",
       "      <td>23</td>\n",
       "      <td>1.0</td>\n",
       "      <td>0.0</td>\n",
       "      <td>0.0</td>\n",
       "      <td>0.0</td>\n",
       "      <td>0.0</td>\n",
       "      <td>1.0</td>\n",
       "      <td>0.0</td>\n",
       "      <td>0.0</td>\n",
       "      <td>1.0</td>\n",
       "      <td>0.0</td>\n",
       "      <td>0.0</td>\n",
       "      <td>1.0</td>\n",
       "      <td>0.0</td>\n",
       "      <td>0.0</td>\n",
       "      <td>0.0</td>\n",
       "      <td>0.0</td>\n",
       "      <td>0.0</td>\n",
       "      <td>0.0</td>\n",
       "      <td>0.0</td>\n",
       "      <td>0.0</td>\n",
       "    </tr>\n",
       "    <tr>\n",
       "      <td>24</td>\n",
       "      <td>1.0</td>\n",
       "      <td>0.0</td>\n",
       "      <td>0.0</td>\n",
       "      <td>0.0</td>\n",
       "      <td>0.0</td>\n",
       "      <td>0.0</td>\n",
       "      <td>0.0</td>\n",
       "      <td>1.0</td>\n",
       "      <td>0.0</td>\n",
       "      <td>0.0</td>\n",
       "      <td>0.0</td>\n",
       "      <td>0.0</td>\n",
       "      <td>0.0</td>\n",
       "      <td>0.0</td>\n",
       "      <td>0.0</td>\n",
       "      <td>0.0</td>\n",
       "      <td>0.0</td>\n",
       "      <td>0.0</td>\n",
       "      <td>0.0</td>\n",
       "      <td>0.0</td>\n",
       "    </tr>\n",
       "    <tr>\n",
       "      <td>25</td>\n",
       "      <td>1.0</td>\n",
       "      <td>0.0</td>\n",
       "      <td>0.0</td>\n",
       "      <td>0.0</td>\n",
       "      <td>0.0</td>\n",
       "      <td>0.0</td>\n",
       "      <td>0.0</td>\n",
       "      <td>0.0</td>\n",
       "      <td>0.0</td>\n",
       "      <td>0.0</td>\n",
       "      <td>0.0</td>\n",
       "      <td>0.0</td>\n",
       "      <td>1.0</td>\n",
       "      <td>0.0</td>\n",
       "      <td>0.0</td>\n",
       "      <td>0.0</td>\n",
       "      <td>0.0</td>\n",
       "      <td>0.0</td>\n",
       "      <td>0.0</td>\n",
       "      <td>0.0</td>\n",
       "    </tr>\n",
       "    <tr>\n",
       "      <td>26</td>\n",
       "      <td>1.0</td>\n",
       "      <td>0.0</td>\n",
       "      <td>0.0</td>\n",
       "      <td>0.0</td>\n",
       "      <td>0.0</td>\n",
       "      <td>0.0</td>\n",
       "      <td>1.0</td>\n",
       "      <td>0.0</td>\n",
       "      <td>0.0</td>\n",
       "      <td>1.0</td>\n",
       "      <td>0.0</td>\n",
       "      <td>1.0</td>\n",
       "      <td>1.0</td>\n",
       "      <td>0.0</td>\n",
       "      <td>0.0</td>\n",
       "      <td>0.0</td>\n",
       "      <td>0.0</td>\n",
       "      <td>0.0</td>\n",
       "      <td>0.0</td>\n",
       "      <td>1.0</td>\n",
       "    </tr>\n",
       "    <tr>\n",
       "      <td>27</td>\n",
       "      <td>1.0</td>\n",
       "      <td>0.0</td>\n",
       "      <td>0.0</td>\n",
       "      <td>0.0</td>\n",
       "      <td>0.0</td>\n",
       "      <td>0.0</td>\n",
       "      <td>0.0</td>\n",
       "      <td>0.0</td>\n",
       "      <td>0.0</td>\n",
       "      <td>0.0</td>\n",
       "      <td>0.0</td>\n",
       "      <td>0.0</td>\n",
       "      <td>1.0</td>\n",
       "      <td>0.0</td>\n",
       "      <td>0.0</td>\n",
       "      <td>0.0</td>\n",
       "      <td>0.0</td>\n",
       "      <td>0.0</td>\n",
       "      <td>0.0</td>\n",
       "      <td>0.0</td>\n",
       "    </tr>\n",
       "    <tr>\n",
       "      <td>30</td>\n",
       "      <td>0.0</td>\n",
       "      <td>0.0</td>\n",
       "      <td>0.0</td>\n",
       "      <td>0.0</td>\n",
       "      <td>0.0</td>\n",
       "      <td>0.0</td>\n",
       "      <td>0.0</td>\n",
       "      <td>0.0</td>\n",
       "      <td>0.0</td>\n",
       "      <td>0.0</td>\n",
       "      <td>0.0</td>\n",
       "      <td>0.0</td>\n",
       "      <td>1.0</td>\n",
       "      <td>0.0</td>\n",
       "      <td>0.0</td>\n",
       "      <td>0.0</td>\n",
       "      <td>0.0</td>\n",
       "      <td>0.0</td>\n",
       "      <td>0.0</td>\n",
       "      <td>0.0</td>\n",
       "    </tr>\n",
       "    <tr>\n",
       "      <td>32</td>\n",
       "      <td>1.0</td>\n",
       "      <td>0.0</td>\n",
       "      <td>0.0</td>\n",
       "      <td>0.0</td>\n",
       "      <td>0.0</td>\n",
       "      <td>0.0</td>\n",
       "      <td>0.0</td>\n",
       "      <td>0.0</td>\n",
       "      <td>0.0</td>\n",
       "      <td>0.0</td>\n",
       "      <td>0.0</td>\n",
       "      <td>0.0</td>\n",
       "      <td>1.0</td>\n",
       "      <td>0.0</td>\n",
       "      <td>0.0</td>\n",
       "      <td>0.0</td>\n",
       "      <td>0.0</td>\n",
       "      <td>1.0</td>\n",
       "      <td>0.0</td>\n",
       "      <td>0.0</td>\n",
       "    </tr>\n",
       "    <tr>\n",
       "      <td>33</td>\n",
       "      <td>1.0</td>\n",
       "      <td>0.0</td>\n",
       "      <td>0.0</td>\n",
       "      <td>0.0</td>\n",
       "      <td>0.0</td>\n",
       "      <td>0.0</td>\n",
       "      <td>0.0</td>\n",
       "      <td>0.0</td>\n",
       "      <td>0.0</td>\n",
       "      <td>0.0</td>\n",
       "      <td>0.0</td>\n",
       "      <td>0.0</td>\n",
       "      <td>1.0</td>\n",
       "      <td>0.0</td>\n",
       "      <td>0.0</td>\n",
       "      <td>0.0</td>\n",
       "      <td>0.0</td>\n",
       "      <td>0.0</td>\n",
       "      <td>0.0</td>\n",
       "      <td>1.0</td>\n",
       "    </tr>\n",
       "    <tr>\n",
       "      <td>35</td>\n",
       "      <td>1.0</td>\n",
       "      <td>0.0</td>\n",
       "      <td>0.0</td>\n",
       "      <td>0.0</td>\n",
       "      <td>0.0</td>\n",
       "      <td>0.0</td>\n",
       "      <td>1.0</td>\n",
       "      <td>0.0</td>\n",
       "      <td>0.0</td>\n",
       "      <td>0.0</td>\n",
       "      <td>0.0</td>\n",
       "      <td>1.0</td>\n",
       "      <td>1.0</td>\n",
       "      <td>0.0</td>\n",
       "      <td>0.0</td>\n",
       "      <td>0.0</td>\n",
       "      <td>0.0</td>\n",
       "      <td>0.0</td>\n",
       "      <td>0.0</td>\n",
       "      <td>0.0</td>\n",
       "    </tr>\n",
       "    <tr>\n",
       "      <td>41</td>\n",
       "      <td>1.0</td>\n",
       "      <td>0.0</td>\n",
       "      <td>1.0</td>\n",
       "      <td>0.0</td>\n",
       "      <td>1.0</td>\n",
       "      <td>0.0</td>\n",
       "      <td>0.0</td>\n",
       "      <td>1.0</td>\n",
       "      <td>0.0</td>\n",
       "      <td>0.0</td>\n",
       "      <td>0.0</td>\n",
       "      <td>1.0</td>\n",
       "      <td>1.0</td>\n",
       "      <td>0.0</td>\n",
       "      <td>0.0</td>\n",
       "      <td>0.0</td>\n",
       "      <td>0.0</td>\n",
       "      <td>0.0</td>\n",
       "      <td>0.0</td>\n",
       "      <td>1.0</td>\n",
       "    </tr>\n",
       "    <tr>\n",
       "      <td>42</td>\n",
       "      <td>1.0</td>\n",
       "      <td>0.0</td>\n",
       "      <td>0.0</td>\n",
       "      <td>0.0</td>\n",
       "      <td>0.0</td>\n",
       "      <td>0.0</td>\n",
       "      <td>1.0</td>\n",
       "      <td>0.0</td>\n",
       "      <td>0.0</td>\n",
       "      <td>1.0</td>\n",
       "      <td>0.0</td>\n",
       "      <td>0.0</td>\n",
       "      <td>0.0</td>\n",
       "      <td>0.0</td>\n",
       "      <td>0.0</td>\n",
       "      <td>0.0</td>\n",
       "      <td>0.0</td>\n",
       "      <td>0.0</td>\n",
       "      <td>0.0</td>\n",
       "      <td>0.0</td>\n",
       "    </tr>\n",
       "  </tbody>\n",
       "</table>\n",
       "</div>"
      ],
      "text/plain": [
       "    Back-end developer  C-suite executive (CEO, CTO, etc.)  \\\n",
       "1                  0.0                                 0.0   \n",
       "4                  1.0                                 1.0   \n",
       "5                  1.0                                 0.0   \n",
       "6                  1.0                                 0.0   \n",
       "8                  1.0                                 0.0   \n",
       "14                 1.0                                 0.0   \n",
       "17                 1.0                                 0.0   \n",
       "20                 1.0                                 0.0   \n",
       "22                 1.0                                 0.0   \n",
       "23                 1.0                                 0.0   \n",
       "24                 1.0                                 0.0   \n",
       "25                 1.0                                 0.0   \n",
       "26                 1.0                                 0.0   \n",
       "27                 1.0                                 0.0   \n",
       "30                 0.0                                 0.0   \n",
       "32                 1.0                                 0.0   \n",
       "33                 1.0                                 0.0   \n",
       "35                 1.0                                 0.0   \n",
       "41                 1.0                                 0.0   \n",
       "42                 1.0                                 0.0   \n",
       "\n",
       "    Data or business analyst  Data scientist or machine learning specialist  \\\n",
       "1                        1.0                                            0.0   \n",
       "4                        1.0                                            0.0   \n",
       "5                        0.0                                            0.0   \n",
       "6                        0.0                                            0.0   \n",
       "8                        0.0                                            0.0   \n",
       "14                       0.0                                            0.0   \n",
       "17                       0.0                                            0.0   \n",
       "20                       0.0                                            0.0   \n",
       "22                       0.0                                            0.0   \n",
       "23                       0.0                                            0.0   \n",
       "24                       0.0                                            0.0   \n",
       "25                       0.0                                            0.0   \n",
       "26                       0.0                                            0.0   \n",
       "27                       0.0                                            0.0   \n",
       "30                       0.0                                            0.0   \n",
       "32                       0.0                                            0.0   \n",
       "33                       0.0                                            0.0   \n",
       "35                       0.0                                            0.0   \n",
       "41                       1.0                                            0.0   \n",
       "42                       0.0                                            0.0   \n",
       "\n",
       "    Database administrator  Designer  \\\n",
       "1                      0.0       0.0   \n",
       "4                      1.0       0.0   \n",
       "5                      0.0       0.0   \n",
       "6                      0.0       0.0   \n",
       "8                      1.0       1.0   \n",
       "14                     0.0       0.0   \n",
       "17                     1.0       0.0   \n",
       "20                     0.0       0.0   \n",
       "22                     0.0       0.0   \n",
       "23                     0.0       1.0   \n",
       "24                     0.0       0.0   \n",
       "25                     0.0       0.0   \n",
       "26                     0.0       0.0   \n",
       "27                     0.0       0.0   \n",
       "30                     0.0       0.0   \n",
       "32                     0.0       0.0   \n",
       "33                     0.0       0.0   \n",
       "35                     0.0       0.0   \n",
       "41                     1.0       0.0   \n",
       "42                     0.0       0.0   \n",
       "\n",
       "    Desktop or enterprise applications developer  DevOps specialist  \\\n",
       "1                                            1.0                0.0   \n",
       "4                                            0.0                1.0   \n",
       "5                                            0.0                0.0   \n",
       "6                                            0.0                0.0   \n",
       "8                                            1.0                0.0   \n",
       "14                                           0.0                0.0   \n",
       "17                                           0.0                1.0   \n",
       "20                                           0.0                0.0   \n",
       "22                                           0.0                0.0   \n",
       "23                                           0.0                0.0   \n",
       "24                                           0.0                1.0   \n",
       "25                                           0.0                0.0   \n",
       "26                                           1.0                0.0   \n",
       "27                                           0.0                0.0   \n",
       "30                                           0.0                0.0   \n",
       "32                                           0.0                0.0   \n",
       "33                                           0.0                0.0   \n",
       "35                                           1.0                0.0   \n",
       "41                                           0.0                1.0   \n",
       "42                                           1.0                0.0   \n",
       "\n",
       "    Educator or academic researcher  \\\n",
       "1                               0.0   \n",
       "4                               0.0   \n",
       "5                               0.0   \n",
       "6                               0.0   \n",
       "8                               0.0   \n",
       "14                              0.0   \n",
       "17                              0.0   \n",
       "20                              0.0   \n",
       "22                              0.0   \n",
       "23                              1.0   \n",
       "24                              0.0   \n",
       "25                              0.0   \n",
       "26                              0.0   \n",
       "27                              0.0   \n",
       "30                              0.0   \n",
       "32                              0.0   \n",
       "33                              0.0   \n",
       "35                              0.0   \n",
       "41                              0.0   \n",
       "42                              0.0   \n",
       "\n",
       "    Embedded applications or devices developer  Engineering manager  \\\n",
       "1                                          0.0                  0.0   \n",
       "4                                          0.0                  1.0   \n",
       "5                                          0.0                  0.0   \n",
       "6                                          0.0                  0.0   \n",
       "8                                          0.0                  0.0   \n",
       "14                                         0.0                  1.0   \n",
       "17                                         0.0                  0.0   \n",
       "20                                         1.0                  0.0   \n",
       "22                                         0.0                  0.0   \n",
       "23                                         0.0                  0.0   \n",
       "24                                         0.0                  0.0   \n",
       "25                                         0.0                  0.0   \n",
       "26                                         1.0                  0.0   \n",
       "27                                         0.0                  0.0   \n",
       "30                                         0.0                  0.0   \n",
       "32                                         0.0                  0.0   \n",
       "33                                         0.0                  0.0   \n",
       "35                                         0.0                  0.0   \n",
       "41                                         0.0                  0.0   \n",
       "42                                         1.0                  0.0   \n",
       "\n",
       "    Front-end developer  Full-stack developer  Game or graphics developer  \\\n",
       "1                   0.0                   0.0                         1.0   \n",
       "4                   0.0                   1.0                         0.0   \n",
       "5                   1.0                   0.0                         0.0   \n",
       "6                   0.0                   0.0                         0.0   \n",
       "8                   1.0                   1.0                         0.0   \n",
       "14                  0.0                   0.0                         0.0   \n",
       "17                  1.0                   1.0                         0.0   \n",
       "20                  0.0                   0.0                         0.0   \n",
       "22                  0.0                   1.0                         0.0   \n",
       "23                  1.0                   0.0                         0.0   \n",
       "24                  0.0                   0.0                         0.0   \n",
       "25                  0.0                   1.0                         0.0   \n",
       "26                  1.0                   1.0                         0.0   \n",
       "27                  0.0                   1.0                         0.0   \n",
       "30                  0.0                   1.0                         0.0   \n",
       "32                  0.0                   1.0                         0.0   \n",
       "33                  0.0                   1.0                         0.0   \n",
       "35                  1.0                   1.0                         0.0   \n",
       "41                  1.0                   1.0                         0.0   \n",
       "42                  0.0                   0.0                         0.0   \n",
       "\n",
       "    Marketing or sales professional  Mobile developer  Product manager  \\\n",
       "1                               0.0               0.0              0.0   \n",
       "4                               0.0               0.0              0.0   \n",
       "5                               0.0               0.0              0.0   \n",
       "6                               0.0               0.0              0.0   \n",
       "8                               0.0               0.0              0.0   \n",
       "14                              0.0               0.0              0.0   \n",
       "17                              0.0               1.0              0.0   \n",
       "20                              0.0               0.0              0.0   \n",
       "22                              0.0               0.0              0.0   \n",
       "23                              0.0               0.0              0.0   \n",
       "24                              0.0               0.0              0.0   \n",
       "25                              0.0               0.0              0.0   \n",
       "26                              0.0               0.0              0.0   \n",
       "27                              0.0               0.0              0.0   \n",
       "30                              0.0               0.0              0.0   \n",
       "32                              0.0               0.0              0.0   \n",
       "33                              0.0               0.0              0.0   \n",
       "35                              0.0               0.0              0.0   \n",
       "41                              0.0               0.0              0.0   \n",
       "42                              0.0               0.0              0.0   \n",
       "\n",
       "    QA or test developer  Student  System administrator  \n",
       "1                    1.0      1.0                   0.0  \n",
       "4                    0.0      0.0                   1.0  \n",
       "5                    0.0      1.0                   0.0  \n",
       "6                    0.0      0.0                   0.0  \n",
       "8                    0.0      0.0                   0.0  \n",
       "14                   0.0      0.0                   0.0  \n",
       "17                   0.0      0.0                   0.0  \n",
       "20                   0.0      0.0                   0.0  \n",
       "22                   0.0      0.0                   0.0  \n",
       "23                   0.0      0.0                   0.0  \n",
       "24                   0.0      0.0                   0.0  \n",
       "25                   0.0      0.0                   0.0  \n",
       "26                   0.0      0.0                   1.0  \n",
       "27                   0.0      0.0                   0.0  \n",
       "30                   0.0      0.0                   0.0  \n",
       "32                   1.0      0.0                   0.0  \n",
       "33                   0.0      0.0                   1.0  \n",
       "35                   0.0      0.0                   0.0  \n",
       "41                   0.0      0.0                   1.0  \n",
       "42                   0.0      0.0                   0.0  "
      ]
     },
     "execution_count": 46,
     "metadata": {},
     "output_type": "execute_result"
    }
   ],
   "source": [
    "df_2018[all_positions].head(20)"
   ]
  },
  {
   "cell_type": "code",
   "execution_count": 128,
   "metadata": {},
   "outputs": [],
   "source": [
    "changes = {'Educator or academic researcher': 'Academic researcher', \n",
    "'QA or test developer': 'Developer, QA or test',\n",
    "'Back-end developer': 'Developer, back-end',\n",
    "'Desktop or enterprise applications developer': 'Developer, desktop or enterprise applications',\n",
    "'Embedded applications or devices developer': 'Developer, embedded applications or devices',\n",
    "'Front-end developer': 'Developer, front-end', \n",
    "'Full-stack developer': 'Developer, full-stack',\n",
    "'Game or graphics developer': 'Developer, game or graphics',\n",
    "'Mobile developer': 'Developer, mobile',\n",
    "}"
   ]
  },
  {
   "cell_type": "code",
   "execution_count": 129,
   "metadata": {},
   "outputs": [],
   "source": [
    "df_2018 = df_2018.rename(columns=changes)"
   ]
  },
  {
   "cell_type": "code",
   "execution_count": 130,
   "metadata": {},
   "outputs": [],
   "source": [
    "df_2018['Educator'] = 0 \n",
    "df_2018['Engineer, data'] = 0\n",
    "df_2018['Engineer, site reliability'] = 0\n",
    "df_2018['Scientist'] = 0\n",
    "df_2018['Senior executive/VP'] = 0"
   ]
  },
  {
   "cell_type": "code",
   "execution_count": 51,
   "metadata": {},
   "outputs": [],
   "source": [
    "all_positions = ['Academic researcher',\n",
    " 'Data or business analyst',\n",
    " 'Data scientist or machine learning specialist',\n",
    " 'Database administrator',\n",
    " 'Designer',\n",
    " 'DevOps specialist',\n",
    " 'Developer, QA or test',\n",
    " 'Developer, back-end',\n",
    " 'Developer, desktop or enterprise applications',\n",
    " 'Developer, embedded applications or devices',\n",
    " 'Developer, front-end',\n",
    " 'Developer, full-stack',\n",
    " 'Developer, game or graphics',\n",
    " 'Developer, mobile',\n",
    " 'Educator',\n",
    " 'Engineer, data',\n",
    " 'Engineer, site reliability',\n",
    " 'Engineering manager',\n",
    " 'Marketing or sales professional',\n",
    " 'Product manager',\n",
    " 'Scientist',\n",
    " 'Senior executive/VP',\n",
    " 'Student',\n",
    " 'System administrator']"
   ]
  },
  {
   "cell_type": "code",
   "execution_count": 53,
   "metadata": {},
   "outputs": [
    {
     "data": {
      "text/plain": [
       "Index(['Academic researcher', 'Data or business analyst',\n",
       "       'Data scientist or machine learning specialist',\n",
       "       'Database administrator', 'Designer', 'DevOps specialist',\n",
       "       'Developer, QA or test', 'Developer, back-end',\n",
       "       'Developer, desktop or enterprise applications',\n",
       "       'Developer, embedded applications or devices', 'Developer, front-end',\n",
       "       'Developer, full-stack', 'Developer, game or graphics',\n",
       "       'Developer, mobile', 'Educator', 'Engineer, data',\n",
       "       'Engineer, site reliability', 'Engineering manager',\n",
       "       'Marketing or sales professional', 'Product manager', 'Scientist',\n",
       "       'Senior executive/VP', 'Student', 'System administrator'],\n",
       "      dtype='object')"
      ]
     },
     "execution_count": 53,
     "metadata": {},
     "output_type": "execute_result"
    }
   ],
   "source": [
    "df_2018[all_positions].columns"
   ]
  },
  {
   "cell_type": "code",
   "execution_count": 131,
   "metadata": {},
   "outputs": [],
   "source": [
    "temp2 = df_2018['LanguageWorkedWith'].str.split(';', expand=True)"
   ]
  },
  {
   "cell_type": "code",
   "execution_count": 132,
   "metadata": {},
   "outputs": [
    {
     "name": "stderr",
     "output_type": "stream",
     "text": [
      "/Users/owenbchiu/opt/anaconda3/lib/python3.7/site-packages/ipykernel_launcher.py:3: FutureWarning: Method .as_matrix will be removed in a future version. Use .values instead.\n",
      "  This is separate from the ipykernel package so we can avoid doing imports until\n"
     ]
    }
   ],
   "source": [
    "all_languages = []\n",
    "for row in range(temp2.shape[0]):\n",
    "    j = temp2.iloc[row].as_matrix()\n",
    "    for language in j:\n",
    "        if language not in all_languages:\n",
    "            all_languages.append(language)"
   ]
  },
  {
   "cell_type": "code",
   "execution_count": 133,
   "metadata": {},
   "outputs": [],
   "source": [
    "all_languages.remove(None)"
   ]
  },
  {
   "cell_type": "code",
   "execution_count": 134,
   "metadata": {},
   "outputs": [
    {
     "data": {
      "text/plain": [
       "nan"
      ]
     },
     "execution_count": 134,
     "metadata": {},
     "output_type": "execute_result"
    }
   ],
   "source": [
    "all_languages.pop(-11)"
   ]
  },
  {
   "cell_type": "code",
   "execution_count": 135,
   "metadata": {},
   "outputs": [],
   "source": [
    "all_languages.sort()"
   ]
  },
  {
   "cell_type": "code",
   "execution_count": 60,
   "metadata": {},
   "outputs": [
    {
     "data": {
      "text/plain": [
       "['Assembly',\n",
       " 'Bash/Shell',\n",
       " 'C',\n",
       " 'C#',\n",
       " 'C++',\n",
       " 'CSS',\n",
       " 'Clojure',\n",
       " 'Cobol',\n",
       " 'CoffeeScript',\n",
       " 'Delphi/Object Pascal',\n",
       " 'Erlang',\n",
       " 'F#',\n",
       " 'Go',\n",
       " 'Groovy',\n",
       " 'HTML',\n",
       " 'Hack',\n",
       " 'Haskell',\n",
       " 'Java',\n",
       " 'JavaScript',\n",
       " 'Julia',\n",
       " 'Kotlin',\n",
       " 'Lua',\n",
       " 'Matlab',\n",
       " 'Objective-C',\n",
       " 'Ocaml',\n",
       " 'PHP',\n",
       " 'Perl',\n",
       " 'Python',\n",
       " 'R',\n",
       " 'Ruby',\n",
       " 'Rust',\n",
       " 'SQL',\n",
       " 'Scala',\n",
       " 'Swift',\n",
       " 'TypeScript',\n",
       " 'VB.NET',\n",
       " 'VBA',\n",
       " 'Visual Basic 6']"
      ]
     },
     "execution_count": 60,
     "metadata": {},
     "output_type": "execute_result"
    }
   ],
   "source": [
    "all_languages"
   ]
  },
  {
   "cell_type": "code",
   "execution_count": 136,
   "metadata": {},
   "outputs": [],
   "source": [
    "for i in all_languages:\n",
    "    df_2018[i] = 0"
   ]
  },
  {
   "cell_type": "code",
   "execution_count": 137,
   "metadata": {},
   "outputs": [
    {
     "name": "stderr",
     "output_type": "stream",
     "text": [
      "/Users/owenbchiu/opt/anaconda3/lib/python3.7/site-packages/ipykernel_launcher.py:2: FutureWarning: Method .as_matrix will be removed in a future version. Use .values instead.\n",
      "  \n"
     ]
    }
   ],
   "source": [
    "for i in range(temp2.shape[0]):\n",
    "    j = list(temp2.iloc[i].as_matrix())\n",
    "    for item in j:\n",
    "        if type(item)==type('str'):\n",
    "            df_2018.at[i, item] = 1"
   ]
  },
  {
   "cell_type": "code",
   "execution_count": 138,
   "metadata": {},
   "outputs": [
    {
     "data": {
      "text/html": [
       "<div>\n",
       "<style scoped>\n",
       "    .dataframe tbody tr th:only-of-type {\n",
       "        vertical-align: middle;\n",
       "    }\n",
       "\n",
       "    .dataframe tbody tr th {\n",
       "        vertical-align: top;\n",
       "    }\n",
       "\n",
       "    .dataframe thead th {\n",
       "        text-align: right;\n",
       "    }\n",
       "</style>\n",
       "<table border=\"1\" class=\"dataframe\">\n",
       "  <thead>\n",
       "    <tr style=\"text-align: right;\">\n",
       "      <th></th>\n",
       "      <th>Assembly</th>\n",
       "      <th>Bash/Shell</th>\n",
       "      <th>C</th>\n",
       "      <th>C#</th>\n",
       "      <th>C++</th>\n",
       "      <th>CSS</th>\n",
       "      <th>Clojure</th>\n",
       "      <th>Cobol</th>\n",
       "      <th>CoffeeScript</th>\n",
       "      <th>Delphi/Object Pascal</th>\n",
       "      <th>...</th>\n",
       "      <th>R</th>\n",
       "      <th>Ruby</th>\n",
       "      <th>Rust</th>\n",
       "      <th>SQL</th>\n",
       "      <th>Scala</th>\n",
       "      <th>Swift</th>\n",
       "      <th>TypeScript</th>\n",
       "      <th>VB.NET</th>\n",
       "      <th>VBA</th>\n",
       "      <th>Visual Basic 6</th>\n",
       "    </tr>\n",
       "  </thead>\n",
       "  <tbody>\n",
       "    <tr>\n",
       "      <td>1</td>\n",
       "      <td>0.0</td>\n",
       "      <td>1.0</td>\n",
       "      <td>1.0</td>\n",
       "      <td>0.0</td>\n",
       "      <td>1.0</td>\n",
       "      <td>0.0</td>\n",
       "      <td>0.0</td>\n",
       "      <td>0.0</td>\n",
       "      <td>0.0</td>\n",
       "      <td>0.0</td>\n",
       "      <td>...</td>\n",
       "      <td>1.0</td>\n",
       "      <td>0.0</td>\n",
       "      <td>0.0</td>\n",
       "      <td>1.0</td>\n",
       "      <td>0.0</td>\n",
       "      <td>0.0</td>\n",
       "      <td>0.0</td>\n",
       "      <td>0.0</td>\n",
       "      <td>0.0</td>\n",
       "      <td>0.0</td>\n",
       "    </tr>\n",
       "    <tr>\n",
       "      <td>4</td>\n",
       "      <td>1.0</td>\n",
       "      <td>1.0</td>\n",
       "      <td>0.0</td>\n",
       "      <td>0.0</td>\n",
       "      <td>0.0</td>\n",
       "      <td>1.0</td>\n",
       "      <td>0.0</td>\n",
       "      <td>0.0</td>\n",
       "      <td>1.0</td>\n",
       "      <td>0.0</td>\n",
       "      <td>...</td>\n",
       "      <td>0.0</td>\n",
       "      <td>1.0</td>\n",
       "      <td>0.0</td>\n",
       "      <td>1.0</td>\n",
       "      <td>0.0</td>\n",
       "      <td>0.0</td>\n",
       "      <td>0.0</td>\n",
       "      <td>0.0</td>\n",
       "      <td>0.0</td>\n",
       "      <td>0.0</td>\n",
       "    </tr>\n",
       "    <tr>\n",
       "      <td>5</td>\n",
       "      <td>0.0</td>\n",
       "      <td>0.0</td>\n",
       "      <td>0.0</td>\n",
       "      <td>0.0</td>\n",
       "      <td>0.0</td>\n",
       "      <td>1.0</td>\n",
       "      <td>0.0</td>\n",
       "      <td>0.0</td>\n",
       "      <td>0.0</td>\n",
       "      <td>0.0</td>\n",
       "      <td>...</td>\n",
       "      <td>0.0</td>\n",
       "      <td>0.0</td>\n",
       "      <td>0.0</td>\n",
       "      <td>0.0</td>\n",
       "      <td>0.0</td>\n",
       "      <td>0.0</td>\n",
       "      <td>0.0</td>\n",
       "      <td>1.0</td>\n",
       "      <td>0.0</td>\n",
       "      <td>0.0</td>\n",
       "    </tr>\n",
       "    <tr>\n",
       "      <td>6</td>\n",
       "      <td>0.0</td>\n",
       "      <td>1.0</td>\n",
       "      <td>0.0</td>\n",
       "      <td>1.0</td>\n",
       "      <td>0.0</td>\n",
       "      <td>1.0</td>\n",
       "      <td>0.0</td>\n",
       "      <td>0.0</td>\n",
       "      <td>0.0</td>\n",
       "      <td>0.0</td>\n",
       "      <td>...</td>\n",
       "      <td>0.0</td>\n",
       "      <td>0.0</td>\n",
       "      <td>0.0</td>\n",
       "      <td>1.0</td>\n",
       "      <td>0.0</td>\n",
       "      <td>0.0</td>\n",
       "      <td>0.0</td>\n",
       "      <td>0.0</td>\n",
       "      <td>0.0</td>\n",
       "      <td>0.0</td>\n",
       "    </tr>\n",
       "    <tr>\n",
       "      <td>8</td>\n",
       "      <td>0.0</td>\n",
       "      <td>0.0</td>\n",
       "      <td>0.0</td>\n",
       "      <td>1.0</td>\n",
       "      <td>0.0</td>\n",
       "      <td>1.0</td>\n",
       "      <td>0.0</td>\n",
       "      <td>0.0</td>\n",
       "      <td>0.0</td>\n",
       "      <td>0.0</td>\n",
       "      <td>...</td>\n",
       "      <td>0.0</td>\n",
       "      <td>0.0</td>\n",
       "      <td>0.0</td>\n",
       "      <td>1.0</td>\n",
       "      <td>0.0</td>\n",
       "      <td>0.0</td>\n",
       "      <td>0.0</td>\n",
       "      <td>0.0</td>\n",
       "      <td>0.0</td>\n",
       "      <td>0.0</td>\n",
       "    </tr>\n",
       "  </tbody>\n",
       "</table>\n",
       "<p>5 rows × 38 columns</p>\n",
       "</div>"
      ],
      "text/plain": [
       "   Assembly  Bash/Shell    C   C#  C++  CSS  Clojure  Cobol  CoffeeScript  \\\n",
       "1       0.0         1.0  1.0  0.0  1.0  0.0      0.0    0.0           0.0   \n",
       "4       1.0         1.0  0.0  0.0  0.0  1.0      0.0    0.0           1.0   \n",
       "5       0.0         0.0  0.0  0.0  0.0  1.0      0.0    0.0           0.0   \n",
       "6       0.0         1.0  0.0  1.0  0.0  1.0      0.0    0.0           0.0   \n",
       "8       0.0         0.0  0.0  1.0  0.0  1.0      0.0    0.0           0.0   \n",
       "\n",
       "   Delphi/Object Pascal  ...    R  Ruby  Rust  SQL  Scala  Swift  TypeScript  \\\n",
       "1                   0.0  ...  1.0   0.0   0.0  1.0    0.0    0.0         0.0   \n",
       "4                   0.0  ...  0.0   1.0   0.0  1.0    0.0    0.0         0.0   \n",
       "5                   0.0  ...  0.0   0.0   0.0  0.0    0.0    0.0         0.0   \n",
       "6                   0.0  ...  0.0   0.0   0.0  1.0    0.0    0.0         0.0   \n",
       "8                   0.0  ...  0.0   0.0   0.0  1.0    0.0    0.0         0.0   \n",
       "\n",
       "   VB.NET  VBA  Visual Basic 6  \n",
       "1     0.0  0.0             0.0  \n",
       "4     0.0  0.0             0.0  \n",
       "5     1.0  0.0             0.0  \n",
       "6     0.0  0.0             0.0  \n",
       "8     0.0  0.0             0.0  \n",
       "\n",
       "[5 rows x 38 columns]"
      ]
     },
     "execution_count": 138,
     "metadata": {},
     "output_type": "execute_result"
    }
   ],
   "source": [
    "df_2018[all_languages].head()"
   ]
  },
  {
   "cell_type": "code",
   "execution_count": 139,
   "metadata": {},
   "outputs": [],
   "source": [
    "change2 = {'Bash/Shell': 'Bash/Shell/PowerShell',\n",
    "          'HTML': 'HTML/CSS'\n",
    "          }"
   ]
  },
  {
   "cell_type": "code",
   "execution_count": 140,
   "metadata": {},
   "outputs": [],
   "source": [
    "df_2018 = df_2018.rename(columns=change2)"
   ]
  },
  {
   "cell_type": "code",
   "execution_count": 141,
   "metadata": {},
   "outputs": [],
   "source": [
    "df_2018['Other(s):'] = 0"
   ]
  },
  {
   "cell_type": "code",
   "execution_count": 142,
   "metadata": {},
   "outputs": [
    {
     "name": "stderr",
     "output_type": "stream",
     "text": [
      "/Users/owenbchiu/opt/anaconda3/lib/python3.7/site-packages/ipykernel_launcher.py:5: FutureWarning: Method .as_matrix will be removed in a future version. Use .values instead.\n",
      "  \"\"\"\n"
     ]
    }
   ],
   "source": [
    "temp3 = df_2018['DatabaseWorkedWith'].str.split(';', expand=True)\n",
    "\n",
    "all_DBs = []\n",
    "for row in range(temp3.shape[0]):\n",
    "    j = temp3.iloc[row].as_matrix()\n",
    "    for db in j:\n",
    "        if db not in all_DBs:\n",
    "            all_DBs.append(db)"
   ]
  },
  {
   "cell_type": "code",
   "execution_count": 143,
   "metadata": {},
   "outputs": [],
   "source": [
    "all_DBs.remove(None)"
   ]
  },
  {
   "cell_type": "code",
   "execution_count": 144,
   "metadata": {},
   "outputs": [
    {
     "data": {
      "text/plain": [
       "nan"
      ]
     },
     "execution_count": 144,
     "metadata": {},
     "output_type": "execute_result"
    }
   ],
   "source": [
    "all_DBs.pop(-6)"
   ]
  },
  {
   "cell_type": "code",
   "execution_count": 145,
   "metadata": {},
   "outputs": [],
   "source": [
    "all_DBs.sort()"
   ]
  },
  {
   "cell_type": "code",
   "execution_count": 73,
   "metadata": {},
   "outputs": [
    {
     "data": {
      "text/plain": [
       "['Amazon DynamoDB',\n",
       " 'Amazon RDS/Aurora',\n",
       " 'Amazon Redshift',\n",
       " 'Apache HBase',\n",
       " 'Apache Hive',\n",
       " 'Cassandra',\n",
       " 'Elasticsearch',\n",
       " 'Google BigQuery',\n",
       " 'Google Cloud Storage',\n",
       " 'IBM Db2',\n",
       " 'MariaDB',\n",
       " 'Memcached',\n",
       " 'Microsoft Azure (Tables, CosmosDB, SQL, etc)',\n",
       " 'MongoDB',\n",
       " 'MySQL',\n",
       " 'Neo4j',\n",
       " 'Oracle',\n",
       " 'PostgreSQL',\n",
       " 'Redis',\n",
       " 'SQL Server',\n",
       " 'SQLite']"
      ]
     },
     "execution_count": 73,
     "metadata": {},
     "output_type": "execute_result"
    }
   ],
   "source": [
    "all_DBs"
   ]
  },
  {
   "cell_type": "code",
   "execution_count": 146,
   "metadata": {},
   "outputs": [],
   "source": [
    "for i in all_DBs:\n",
    "    df_2018[i] = 0"
   ]
  },
  {
   "cell_type": "code",
   "execution_count": 147,
   "metadata": {},
   "outputs": [
    {
     "name": "stderr",
     "output_type": "stream",
     "text": [
      "/Users/owenbchiu/opt/anaconda3/lib/python3.7/site-packages/ipykernel_launcher.py:2: FutureWarning: Method .as_matrix will be removed in a future version. Use .values instead.\n",
      "  \n"
     ]
    }
   ],
   "source": [
    "for i in range(temp3.shape[0]):\n",
    "    j = list(temp3.iloc[i].as_matrix())\n",
    "    for item in j:\n",
    "        if type(item)==type('str'):\n",
    "            df_2018.at[i, item] = 1"
   ]
  },
  {
   "cell_type": "code",
   "execution_count": 148,
   "metadata": {},
   "outputs": [],
   "source": [
    "change3 = {'Microsoft Azure (Tables, CosmosDB, SQL, etc)': 'Microsoft SQL Server'}"
   ]
  },
  {
   "cell_type": "code",
   "execution_count": 149,
   "metadata": {},
   "outputs": [],
   "source": [
    "df_2018 = df_2018.rename(columns=change3)"
   ]
  },
  {
   "cell_type": "code",
   "execution_count": 150,
   "metadata": {},
   "outputs": [],
   "source": [
    "df_2018['Couchbase'] = 0\n",
    "df_2018['DynamoDB'] = 0\n",
    "df_2018['Firebase'] = 0\n",
    "df_2018['Other(s):'] = 0"
   ]
  },
  {
   "cell_type": "code",
   "execution_count": 151,
   "metadata": {},
   "outputs": [
    {
     "name": "stderr",
     "output_type": "stream",
     "text": [
      "/Users/owenbchiu/opt/anaconda3/lib/python3.7/site-packages/ipykernel_launcher.py:5: FutureWarning: Method .as_matrix will be removed in a future version. Use .values instead.\n",
      "  \"\"\"\n"
     ]
    }
   ],
   "source": [
    "temp4 = df_2018['PlatformWorkedWith'].str.split(';', expand=True)\n",
    "\n",
    "all_plats = []\n",
    "for row in range(temp4.shape[0]):\n",
    "    j = temp4.iloc[row].as_matrix()\n",
    "    for plat in j:\n",
    "        if plat not in all_plats:\n",
    "            all_plats.append(plat)"
   ]
  },
  {
   "cell_type": "code",
   "execution_count": 152,
   "metadata": {},
   "outputs": [],
   "source": [
    "all_plats.remove(None)"
   ]
  },
  {
   "cell_type": "code",
   "execution_count": 153,
   "metadata": {},
   "outputs": [
    {
     "data": {
      "text/plain": [
       "nan"
      ]
     },
     "execution_count": 153,
     "metadata": {},
     "output_type": "execute_result"
    }
   ],
   "source": [
    "all_plats.pop(10)"
   ]
  },
  {
   "cell_type": "code",
   "execution_count": 154,
   "metadata": {},
   "outputs": [],
   "source": [
    "all_plats.sort()"
   ]
  },
  {
   "cell_type": "code",
   "execution_count": 155,
   "metadata": {},
   "outputs": [],
   "source": [
    "for i in all_plats:\n",
    "    df_2018[i] = 0"
   ]
  },
  {
   "cell_type": "code",
   "execution_count": 156,
   "metadata": {},
   "outputs": [
    {
     "name": "stderr",
     "output_type": "stream",
     "text": [
      "/Users/owenbchiu/opt/anaconda3/lib/python3.7/site-packages/ipykernel_launcher.py:2: FutureWarning: Method .as_matrix will be removed in a future version. Use .values instead.\n",
      "  \n"
     ]
    }
   ],
   "source": [
    "for i in range(temp4.shape[0]):\n",
    "    j = list(temp4.iloc[i].as_matrix())\n",
    "    for item in j:\n",
    "        if type(item)==type('str'):\n",
    "            df_2018.at[i, item] = 1"
   ]
  },
  {
   "cell_type": "code",
   "execution_count": 84,
   "metadata": {},
   "outputs": [
    {
     "data": {
      "text/plain": [
       "['AWS',\n",
       " 'Amazon Echo',\n",
       " 'Android',\n",
       " 'Apple Watch or Apple TV',\n",
       " 'Arduino',\n",
       " 'Azure',\n",
       " 'Drupal',\n",
       " 'ESP8266',\n",
       " 'Firebase',\n",
       " 'Gaming console',\n",
       " 'Google Cloud Platform/App Engine',\n",
       " 'Google Home',\n",
       " 'Heroku',\n",
       " 'IBM Cloud or Watson',\n",
       " 'Linux',\n",
       " 'Mac OS',\n",
       " 'Mainframe',\n",
       " 'Predix',\n",
       " 'Raspberry Pi',\n",
       " 'Salesforce',\n",
       " 'Serverless',\n",
       " 'SharePoint',\n",
       " 'Windows Desktop or Server',\n",
       " 'Windows Phone',\n",
       " 'WordPress',\n",
       " 'iOS']"
      ]
     },
     "execution_count": 84,
     "metadata": {},
     "output_type": "execute_result"
    }
   ],
   "source": [
    "all_plats"
   ]
  },
  {
   "cell_type": "code",
   "execution_count": 157,
   "metadata": {},
   "outputs": [],
   "source": [
    "change4 = {'Windows Desktop or Server': 'Windows',\n",
    "          'Google Cloud Platform/App Engine': 'Google Cloud Platform',\n",
    "          'Mac OS': 'MacOS'}"
   ]
  },
  {
   "cell_type": "code",
   "execution_count": 158,
   "metadata": {},
   "outputs": [],
   "source": [
    "df_2018 = df_2018.rename(columns=change4)"
   ]
  },
  {
   "cell_type": "code",
   "execution_count": 159,
   "metadata": {},
   "outputs": [],
   "source": [
    "df_2018['Docker'] = 0\n",
    "df_2018['Slack'] = 0\n",
    "df_2018['Microsoft Azure'] = 0\n",
    "df_2018['Kubernetes'] = 0\n",
    "df_2018['Other(s):'] = 0"
   ]
  },
  {
   "cell_type": "code",
   "execution_count": 160,
   "metadata": {},
   "outputs": [
    {
     "name": "stderr",
     "output_type": "stream",
     "text": [
      "/Users/owenbchiu/opt/anaconda3/lib/python3.7/site-packages/ipykernel_launcher.py:5: FutureWarning: Method .as_matrix will be removed in a future version. Use .values instead.\n",
      "  \"\"\"\n"
     ]
    }
   ],
   "source": [
    "temp5 = df_2018['FrameworkWorkedWith'].str.split(';', expand=True)\n",
    "\n",
    "all_frames = []\n",
    "for row in range(temp5.shape[0]):\n",
    "    j = temp5.iloc[row].as_matrix()\n",
    "    for frame in j:\n",
    "        if frame not in all_frames:\n",
    "            all_frames.append(frame)"
   ]
  },
  {
   "cell_type": "code",
   "execution_count": 161,
   "metadata": {},
   "outputs": [],
   "source": [
    "all_frames.remove(None)"
   ]
  },
  {
   "cell_type": "code",
   "execution_count": 162,
   "metadata": {},
   "outputs": [
    {
     "data": {
      "text/plain": [
       "nan"
      ]
     },
     "execution_count": 162,
     "metadata": {},
     "output_type": "execute_result"
    }
   ],
   "source": [
    "all_frames.pop(1)"
   ]
  },
  {
   "cell_type": "code",
   "execution_count": 163,
   "metadata": {},
   "outputs": [],
   "source": [
    "all_frames.sort()"
   ]
  },
  {
   "cell_type": "code",
   "execution_count": 98,
   "metadata": {},
   "outputs": [
    {
     "data": {
      "text/plain": [
       "['.NET Core',\n",
       " 'Angular',\n",
       " 'Cordova',\n",
       " 'Django',\n",
       " 'Hadoop',\n",
       " 'Node.js',\n",
       " 'React',\n",
       " 'Spark',\n",
       " 'Spring',\n",
       " 'TensorFlow',\n",
       " 'Torch/PyTorch',\n",
       " 'Xamarin']"
      ]
     },
     "execution_count": 98,
     "metadata": {},
     "output_type": "execute_result"
    }
   ],
   "source": [
    "all_frames"
   ]
  },
  {
   "cell_type": "code",
   "execution_count": 164,
   "metadata": {},
   "outputs": [],
   "source": [
    "for i in all_frames:\n",
    "    df_2018[i] = 0"
   ]
  },
  {
   "cell_type": "code",
   "execution_count": 165,
   "metadata": {},
   "outputs": [
    {
     "name": "stderr",
     "output_type": "stream",
     "text": [
      "/Users/owenbchiu/opt/anaconda3/lib/python3.7/site-packages/ipykernel_launcher.py:2: FutureWarning: Method .as_matrix will be removed in a future version. Use .values instead.\n",
      "  \n"
     ]
    }
   ],
   "source": [
    "for i in range(temp5.shape[0]):\n",
    "    j = list(temp5.iloc[i].as_matrix())\n",
    "    for item in j:\n",
    "        if type(item)==type('str'):\n",
    "            df_2018.at[i, item] = 1"
   ]
  },
  {
   "cell_type": "code",
   "execution_count": 166,
   "metadata": {},
   "outputs": [],
   "source": [
    "change5 = {'Angular': 'Angular/Angular.js',\n",
    "          'React': 'React.js',}"
   ]
  },
  {
   "cell_type": "code",
   "execution_count": 167,
   "metadata": {},
   "outputs": [],
   "source": [
    "df_2018 = df_2018.rename(columns=change5)"
   ]
  },
  {
   "cell_type": "code",
   "execution_count": 168,
   "metadata": {},
   "outputs": [],
   "source": [
    "df_2018['Express'] = 0\n",
    "df_2018['Ruby on Rails'] = 0\n",
    "df_2018['Other(s):'] = 0\n",
    "df_2018['ASP.NET'] = 0\n",
    "df_2018['Flask'] = 0\n",
    "df_2018['jQuery'] = 0\n",
    "df_2018['Vue.js'] = 0\n",
    "df_2018['Laravel'] = 0"
   ]
  },
  {
   "cell_type": "code",
   "execution_count": 169,
   "metadata": {},
   "outputs": [],
   "source": [
    "features = ['YearsCode', 'CountryAvgComp', 'EducationAvgComp',\n",
    "       'Academic researcher', 'Data or business analyst',\n",
    "       'Data scientist or machine learning specialist',\n",
    "       'Database administrator', 'Designer', 'DevOps specialist',\n",
    "       'Developer, QA or test', 'Developer, back-end',\n",
    "       'Developer, desktop or enterprise applications',\n",
    "       'Developer, embedded applications or devices', 'Developer, front-end',\n",
    "       'Developer, full-stack', 'Developer, game or graphics',\n",
    "       'Developer, mobile', 'Educator', 'Engineer, data',\n",
    "       'Engineer, site reliability', 'Engineering manager', 'Product manager',\n",
    "       'Scientist', 'Senior executive/VP', 'Student', 'System administrator',\n",
    "       'Assembly', 'Bash/Shell/PowerShell', 'C', 'C#', 'C++', 'Go', 'HTML/CSS',\n",
    "       'Java', 'JavaScript', 'Kotlin', 'Objective-C', 'Other(s):', 'PHP',\n",
    "       'Python', 'R', 'Ruby', 'Rust', 'SQL', 'Scala', 'Swift', 'TypeScript',\n",
    "       'VBA', 'Cassandra', 'DynamoDB', 'Elasticsearch', 'Firebase', 'MariaDB',\n",
    "       'Microsoft SQL Server', 'MongoDB', 'MySQL', 'Oracle', 'PostgreSQL',\n",
    "       'Redis', 'SQLite', 'Linux', 'Windows', 'Android',\n",
    "       'Google Cloud Platform', 'AWS', 'Docker', 'Heroku', 'MacOS', 'Slack',\n",
    "       'iOS', 'Microsoft Azure', 'WordPress', 'Arduino', 'Raspberry Pi',\n",
    "       'Kubernetes', 'Express', 'Ruby on Rails', 'Angular/Angular.js',\n",
    "       'ASP.NET', 'Django', 'Flask', 'jQuery', 'Vue.js', 'Spring', 'React.js',\n",
    "       'Laravel', 'ConvertedComp']"
   ]
  },
  {
   "cell_type": "code",
   "execution_count": 172,
   "metadata": {},
   "outputs": [],
   "source": [
    "df_2018 = df_2018[~df_2018['YearsCode'].isna()]"
   ]
  },
  {
   "cell_type": "code",
   "execution_count": 175,
   "metadata": {},
   "outputs": [],
   "source": [
    "df_2018 = df_2018[~df_2018['CountryAvgComp'].isna()]"
   ]
  },
  {
   "cell_type": "code",
   "execution_count": 178,
   "metadata": {},
   "outputs": [
    {
     "data": {
      "text/plain": [
       "(46592, 149)"
      ]
     },
     "execution_count": 178,
     "metadata": {},
     "output_type": "execute_result"
    }
   ],
   "source": [
    "df_2018.to_csv('20')"
   ]
  },
  {
   "cell_type": "code",
   "execution_count": null,
   "metadata": {},
   "outputs": [],
   "source": []
  }
 ],
 "metadata": {
  "kernelspec": {
   "display_name": "Python 3",
   "language": "python",
   "name": "python3"
  },
  "language_info": {
   "codemirror_mode": {
    "name": "ipython",
    "version": 3
   },
   "file_extension": ".py",
   "mimetype": "text/x-python",
   "name": "python",
   "nbconvert_exporter": "python",
   "pygments_lexer": "ipython3",
   "version": "3.7.4"
  }
 },
 "nbformat": 4,
 "nbformat_minor": 2
}
